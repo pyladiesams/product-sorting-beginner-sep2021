{
 "cells": [
  {
   "cell_type": "markdown",
   "source": [
    "# Introduction to Product List Sorting (PLS)\r\n",
    "\r\n",
    "**Workshop Level**: Beginner\r\n",
    "\r\n",
    "**What you'll learn**: During the workshop you will learn how to train a machine learning model in Python to sort products into a list that maximizes the click-through rate (CTR). This process solves one of the classic problems in e-commerce: the virtual presentation of products, especially their order, which varies along the customer journey.\r\n"
   ],
   "metadata": {
    "papermill": {
     "duration": 0.033075,
     "end_time": "2021-08-28T09:45:13.155926",
     "exception": false,
     "start_time": "2021-08-28T09:45:13.122851",
     "status": "completed"
    },
    "tags": []
   }
  },
  {
   "cell_type": "code",
   "execution_count": 49,
   "source": [
    "import numpy as np \r\n",
    "import pandas as pd \r\n",
    "import matplotlib.pyplot as plt \r\n",
    "from pandas.api.types import is_string_dtype, is_numeric_dtype\r\n",
    "from sklearn.model_selection import train_test_split\r\n",
    "from sklearn.linear_model import LinearRegression"
   ],
   "outputs": [],
   "metadata": {
    "_cell_guid": "b1076dfc-b9ad-4769-8c92-a6c4dae69d19",
    "_uuid": "8f2839f25d086af736a60e9eeb907d3b93b6e0e5",
    "execution": {
     "iopub.execute_input": "2021-08-28T09:45:13.287774Z",
     "iopub.status.busy": "2021-08-28T09:45:13.287071Z",
     "iopub.status.idle": "2021-08-28T09:45:14.609646Z",
     "shell.execute_reply": "2021-08-28T09:45:14.608827Z",
     "shell.execute_reply.started": "2021-08-26T09:28:03.106015Z"
    },
    "papermill": {
     "duration": 1.364157,
     "end_time": "2021-08-28T09:45:14.609813",
     "exception": false,
     "start_time": "2021-08-28T09:45:13.245656",
     "status": "completed"
    },
    "tags": []
   }
  },
  {
   "cell_type": "markdown",
   "source": [
    "# 0. Reading data\r\n",
    "\r\n",
    "Input data file for e-commerce events is available in Kaggle:\r\n",
    "+ [eCommerce events history in electronics store](https://www.kaggle.com/mkechinov/ecommerce-events-history-in-electronics-store)\r\n",
    "+ [EES46 Marketing Platform](https://rees46.com/)"
   ],
   "metadata": {
    "papermill": {
     "duration": 0.030355,
     "end_time": "2021-08-28T09:45:14.671483",
     "exception": false,
     "start_time": "2021-08-28T09:45:14.641128",
     "status": "completed"
    },
    "tags": []
   }
  },
  {
   "cell_type": "code",
   "execution_count": 35,
   "source": [
    "!kaggle datasets download -d mkechinov/ecommerce-events-history-in-electronics-store"
   ],
   "outputs": [
    {
     "output_type": "stream",
     "name": "stdout",
     "text": [
      "Downloading ecommerce-events-history-in-electronics-store.zip to c:\\Users\\meira\\Projects\\product-sorting-beginner-sep2021\\workshop\n",
      "\n"
     ]
    },
    {
     "output_type": "stream",
     "name": "stderr",
     "text": [
      "\n",
      "  0%|          | 0.00/20.3M [00:00<?, ?B/s]\n",
      "  5%|▍         | 1.00M/20.3M [00:00<00:05, 3.95MB/s]\n",
      " 15%|█▍        | 3.00M/20.3M [00:00<00:02, 6.90MB/s]\n",
      " 30%|██▉       | 6.00M/20.3M [00:00<00:01, 12.3MB/s]\n",
      " 44%|████▍     | 9.00M/20.3M [00:00<00:00, 16.4MB/s]\n",
      " 69%|██████▉   | 14.0M/20.3M [00:00<00:00, 25.2MB/s]\n",
      " 94%|█████████▎| 19.0M/20.3M [00:00<00:00, 31.9MB/s]\n",
      "100%|██████████| 20.3M/20.3M [00:00<00:00, 21.7MB/s]\n"
     ]
    }
   ],
   "metadata": {}
  },
  {
   "cell_type": "code",
   "execution_count": 36,
   "source": [
    "# unzip and delete original\r\n",
    "import zipfile\r\n",
    "\r\n",
    "with zipfile.ZipFile('ecommerce-events-history-in-electronics-store.zip', 'r') as zip_file:\r\n",
    "    zip_file.extractall('input-data')\r\n"
   ],
   "outputs": [],
   "metadata": {}
  },
  {
   "cell_type": "code",
   "execution_count": 37,
   "source": [
    "!del ecommerce-events-history-in-electronics-store.zip"
   ],
   "outputs": [],
   "metadata": {}
  },
  {
   "cell_type": "code",
   "execution_count": 38,
   "source": [
    "# load data \r\n",
    "events_data = pd.read_csv('input-data/events.csv')\r\n",
    "events_data.head()"
   ],
   "outputs": [
    {
     "output_type": "execute_result",
     "data": {
      "text/html": [
       "<div>\n",
       "<style scoped>\n",
       "    .dataframe tbody tr th:only-of-type {\n",
       "        vertical-align: middle;\n",
       "    }\n",
       "\n",
       "    .dataframe tbody tr th {\n",
       "        vertical-align: top;\n",
       "    }\n",
       "\n",
       "    .dataframe thead th {\n",
       "        text-align: right;\n",
       "    }\n",
       "</style>\n",
       "<table border=\"1\" class=\"dataframe\">\n",
       "  <thead>\n",
       "    <tr style=\"text-align: right;\">\n",
       "      <th></th>\n",
       "      <th>event_time</th>\n",
       "      <th>event_type</th>\n",
       "      <th>product_id</th>\n",
       "      <th>category_id</th>\n",
       "      <th>category_code</th>\n",
       "      <th>brand</th>\n",
       "      <th>price</th>\n",
       "      <th>user_id</th>\n",
       "      <th>user_session</th>\n",
       "    </tr>\n",
       "  </thead>\n",
       "  <tbody>\n",
       "    <tr>\n",
       "      <th>0</th>\n",
       "      <td>2020-09-24 11:57:06 UTC</td>\n",
       "      <td>view</td>\n",
       "      <td>1996170</td>\n",
       "      <td>2144415922528452715</td>\n",
       "      <td>electronics.telephone</td>\n",
       "      <td>NaN</td>\n",
       "      <td>31.90</td>\n",
       "      <td>1515915625519388267</td>\n",
       "      <td>LJuJVLEjPT</td>\n",
       "    </tr>\n",
       "    <tr>\n",
       "      <th>1</th>\n",
       "      <td>2020-09-24 11:57:26 UTC</td>\n",
       "      <td>view</td>\n",
       "      <td>139905</td>\n",
       "      <td>2144415926932472027</td>\n",
       "      <td>computers.components.cooler</td>\n",
       "      <td>zalman</td>\n",
       "      <td>17.16</td>\n",
       "      <td>1515915625519380411</td>\n",
       "      <td>tdicluNnRY</td>\n",
       "    </tr>\n",
       "    <tr>\n",
       "      <th>2</th>\n",
       "      <td>2020-09-24 11:57:27 UTC</td>\n",
       "      <td>view</td>\n",
       "      <td>215454</td>\n",
       "      <td>2144415927158964449</td>\n",
       "      <td>NaN</td>\n",
       "      <td>NaN</td>\n",
       "      <td>9.81</td>\n",
       "      <td>1515915625513238515</td>\n",
       "      <td>4TMArHtXQy</td>\n",
       "    </tr>\n",
       "    <tr>\n",
       "      <th>3</th>\n",
       "      <td>2020-09-24 11:57:33 UTC</td>\n",
       "      <td>view</td>\n",
       "      <td>635807</td>\n",
       "      <td>2144415923107266682</td>\n",
       "      <td>computers.peripherals.printer</td>\n",
       "      <td>pantum</td>\n",
       "      <td>113.81</td>\n",
       "      <td>1515915625519014356</td>\n",
       "      <td>aGFYrNgC08</td>\n",
       "    </tr>\n",
       "    <tr>\n",
       "      <th>4</th>\n",
       "      <td>2020-09-24 11:57:36 UTC</td>\n",
       "      <td>view</td>\n",
       "      <td>3658723</td>\n",
       "      <td>2144415921169498184</td>\n",
       "      <td>NaN</td>\n",
       "      <td>cameronsino</td>\n",
       "      <td>15.87</td>\n",
       "      <td>1515915625510743344</td>\n",
       "      <td>aa4mmk0kwQ</td>\n",
       "    </tr>\n",
       "  </tbody>\n",
       "</table>\n",
       "</div>"
      ],
      "text/plain": [
       "                event_time event_type  product_id          category_id  \\\n",
       "0  2020-09-24 11:57:06 UTC       view     1996170  2144415922528452715   \n",
       "1  2020-09-24 11:57:26 UTC       view      139905  2144415926932472027   \n",
       "2  2020-09-24 11:57:27 UTC       view      215454  2144415927158964449   \n",
       "3  2020-09-24 11:57:33 UTC       view      635807  2144415923107266682   \n",
       "4  2020-09-24 11:57:36 UTC       view     3658723  2144415921169498184   \n",
       "\n",
       "                   category_code        brand   price              user_id  \\\n",
       "0          electronics.telephone          NaN   31.90  1515915625519388267   \n",
       "1    computers.components.cooler       zalman   17.16  1515915625519380411   \n",
       "2                            NaN          NaN    9.81  1515915625513238515   \n",
       "3  computers.peripherals.printer       pantum  113.81  1515915625519014356   \n",
       "4                            NaN  cameronsino   15.87  1515915625510743344   \n",
       "\n",
       "  user_session  \n",
       "0   LJuJVLEjPT  \n",
       "1   tdicluNnRY  \n",
       "2   4TMArHtXQy  \n",
       "3   aGFYrNgC08  \n",
       "4   aa4mmk0kwQ  "
      ]
     },
     "metadata": {},
     "execution_count": 38
    }
   ],
   "metadata": {
    "execution": {
     "iopub.execute_input": "2021-08-28T09:45:14.881648Z",
     "iopub.status.busy": "2021-08-28T09:45:14.880988Z",
     "iopub.status.idle": "2021-08-28T09:45:15.014583Z",
     "shell.execute_reply": "2021-08-28T09:45:15.015041Z",
     "shell.execute_reply.started": "2021-08-26T09:38:44.88981Z"
    },
    "papermill": {
     "duration": 0.169664,
     "end_time": "2021-08-28T09:45:15.015227",
     "exception": false,
     "start_time": "2021-08-28T09:45:14.845563",
     "status": "completed"
    },
    "tags": []
   }
  },
  {
   "cell_type": "code",
   "execution_count": 39,
   "source": [
    "events_data.info()"
   ],
   "outputs": [
    {
     "output_type": "stream",
     "name": "stdout",
     "text": [
      "<class 'pandas.core.frame.DataFrame'>\n",
      "RangeIndex: 885129 entries, 0 to 885128\n",
      "Data columns (total 9 columns):\n",
      " #   Column         Non-Null Count   Dtype  \n",
      "---  ------         --------------   -----  \n",
      " 0   event_time     885129 non-null  object \n",
      " 1   event_type     885129 non-null  object \n",
      " 2   product_id     885129 non-null  int64  \n",
      " 3   category_id    885129 non-null  int64  \n",
      " 4   category_code  648910 non-null  object \n",
      " 5   brand          672765 non-null  object \n",
      " 6   price          885129 non-null  float64\n",
      " 7   user_id        885129 non-null  int64  \n",
      " 8   user_session   884964 non-null  object \n",
      "dtypes: float64(1), int64(3), object(5)\n",
      "memory usage: 60.8+ MB\n"
     ]
    }
   ],
   "metadata": {}
  },
  {
   "cell_type": "code",
   "execution_count": 40,
   "source": [
    "events_data.groupby('event_type').user_session.count()"
   ],
   "outputs": [
    {
     "output_type": "execute_result",
     "data": {
      "text/plain": [
       "event_type\n",
       "cart         54029\n",
       "purchase     37346\n",
       "view        793589\n",
       "Name: user_session, dtype: int64"
      ]
     },
     "metadata": {},
     "execution_count": 40
    }
   ],
   "metadata": {}
  },
  {
   "cell_type": "markdown",
   "source": [
    "# 1. Data preparation"
   ],
   "metadata": {
    "papermill": {
     "duration": 0.029851,
     "end_time": "2021-08-28T09:45:15.075228",
     "exception": false,
     "start_time": "2021-08-28T09:45:15.045377",
     "status": "completed"
    },
    "tags": []
   }
  },
  {
   "cell_type": "markdown",
   "source": [
    "### Data finding, organizing and cleaning can take up to 80 % of your Data Science projects time (IBM Data Analytics). Make sure you take this into account when planning your project. "
   ],
   "metadata": {
    "papermill": {
     "duration": 0.029674,
     "end_time": "2021-08-28T09:45:15.135005",
     "exception": false,
     "start_time": "2021-08-28T09:45:15.105331",
     "status": "completed"
    },
    "tags": []
   }
  },
  {
   "cell_type": "code",
   "execution_count": 62,
   "source": [
    "# get only impressions and orders \r\n",
    "df = events_data[events_data.event_type.isin(['view','purchase'])]\r\n",
    "\r\n",
    "# count number of orders and impressions per product\r\n",
    "df_pivot = pd.pivot_table(df, index=['product_id','price'], columns=['event_type'], values='user_session', aggfunc=pd.Series.count)\r\n",
    "df_pivot.fillna(0, inplace=True)\r\n",
    "\r\n",
    "df_pivot.head()"
   ],
   "outputs": [
    {
     "output_type": "execute_result",
     "data": {
      "text/html": [
       "<div>\n",
       "<style scoped>\n",
       "    .dataframe tbody tr th:only-of-type {\n",
       "        vertical-align: middle;\n",
       "    }\n",
       "\n",
       "    .dataframe tbody tr th {\n",
       "        vertical-align: top;\n",
       "    }\n",
       "\n",
       "    .dataframe thead th {\n",
       "        text-align: right;\n",
       "    }\n",
       "</style>\n",
       "<table border=\"1\" class=\"dataframe\">\n",
       "  <thead>\n",
       "    <tr style=\"text-align: right;\">\n",
       "      <th></th>\n",
       "      <th>event_type</th>\n",
       "      <th>purchase</th>\n",
       "      <th>view</th>\n",
       "    </tr>\n",
       "    <tr>\n",
       "      <th>product_id</th>\n",
       "      <th>price</th>\n",
       "      <th></th>\n",
       "      <th></th>\n",
       "    </tr>\n",
       "  </thead>\n",
       "  <tbody>\n",
       "    <tr>\n",
       "      <th>102</th>\n",
       "      <th>13.02</th>\n",
       "      <td>5.0</td>\n",
       "      <td>19.0</td>\n",
       "    </tr>\n",
       "    <tr>\n",
       "      <th>105</th>\n",
       "      <th>14.19</th>\n",
       "      <td>3.0</td>\n",
       "      <td>664.0</td>\n",
       "    </tr>\n",
       "    <tr>\n",
       "      <th>109</th>\n",
       "      <th>11.52</th>\n",
       "      <td>0.0</td>\n",
       "      <td>42.0</td>\n",
       "    </tr>\n",
       "    <tr>\n",
       "      <th>526</th>\n",
       "      <th>12.54</th>\n",
       "      <td>5.0</td>\n",
       "      <td>30.0</td>\n",
       "    </tr>\n",
       "    <tr>\n",
       "      <th>561</th>\n",
       "      <th>10.76</th>\n",
       "      <td>0.0</td>\n",
       "      <td>2.0</td>\n",
       "    </tr>\n",
       "  </tbody>\n",
       "</table>\n",
       "</div>"
      ],
      "text/plain": [
       "event_type        purchase   view\n",
       "product_id price                 \n",
       "102        13.02       5.0   19.0\n",
       "105        14.19       3.0  664.0\n",
       "109        11.52       0.0   42.0\n",
       "526        12.54       5.0   30.0\n",
       "561        10.76       0.0    2.0"
      ]
     },
     "metadata": {},
     "execution_count": 62
    }
   ],
   "metadata": {}
  },
  {
   "cell_type": "code",
   "execution_count": 63,
   "source": [
    "df_pivot.columns.name = None\r\n",
    "df_pivot.reset_index(inplace=True)\r\n",
    "df_pivot.head()"
   ],
   "outputs": [
    {
     "output_type": "execute_result",
     "data": {
      "text/html": [
       "<div>\n",
       "<style scoped>\n",
       "    .dataframe tbody tr th:only-of-type {\n",
       "        vertical-align: middle;\n",
       "    }\n",
       "\n",
       "    .dataframe tbody tr th {\n",
       "        vertical-align: top;\n",
       "    }\n",
       "\n",
       "    .dataframe thead th {\n",
       "        text-align: right;\n",
       "    }\n",
       "</style>\n",
       "<table border=\"1\" class=\"dataframe\">\n",
       "  <thead>\n",
       "    <tr style=\"text-align: right;\">\n",
       "      <th></th>\n",
       "      <th>product_id</th>\n",
       "      <th>price</th>\n",
       "      <th>purchase</th>\n",
       "      <th>view</th>\n",
       "    </tr>\n",
       "  </thead>\n",
       "  <tbody>\n",
       "    <tr>\n",
       "      <th>0</th>\n",
       "      <td>102</td>\n",
       "      <td>13.02</td>\n",
       "      <td>5.0</td>\n",
       "      <td>19.0</td>\n",
       "    </tr>\n",
       "    <tr>\n",
       "      <th>1</th>\n",
       "      <td>105</td>\n",
       "      <td>14.19</td>\n",
       "      <td>3.0</td>\n",
       "      <td>664.0</td>\n",
       "    </tr>\n",
       "    <tr>\n",
       "      <th>2</th>\n",
       "      <td>109</td>\n",
       "      <td>11.52</td>\n",
       "      <td>0.0</td>\n",
       "      <td>42.0</td>\n",
       "    </tr>\n",
       "    <tr>\n",
       "      <th>3</th>\n",
       "      <td>526</td>\n",
       "      <td>12.54</td>\n",
       "      <td>5.0</td>\n",
       "      <td>30.0</td>\n",
       "    </tr>\n",
       "    <tr>\n",
       "      <th>4</th>\n",
       "      <td>561</td>\n",
       "      <td>10.76</td>\n",
       "      <td>0.0</td>\n",
       "      <td>2.0</td>\n",
       "    </tr>\n",
       "  </tbody>\n",
       "</table>\n",
       "</div>"
      ],
      "text/plain": [
       "   product_id  price  purchase   view\n",
       "0         102  13.02       5.0   19.0\n",
       "1         105  14.19       3.0  664.0\n",
       "2         109  11.52       0.0   42.0\n",
       "3         526  12.54       5.0   30.0\n",
       "4         561  10.76       0.0    2.0"
      ]
     },
     "metadata": {},
     "execution_count": 63
    }
   ],
   "metadata": {}
  },
  {
   "cell_type": "code",
   "execution_count": 64,
   "source": [
    "df_pivot.describe()"
   ],
   "outputs": [
    {
     "output_type": "execute_result",
     "data": {
      "text/html": [
       "<div>\n",
       "<style scoped>\n",
       "    .dataframe tbody tr th:only-of-type {\n",
       "        vertical-align: middle;\n",
       "    }\n",
       "\n",
       "    .dataframe tbody tr th {\n",
       "        vertical-align: top;\n",
       "    }\n",
       "\n",
       "    .dataframe thead th {\n",
       "        text-align: right;\n",
       "    }\n",
       "</style>\n",
       "<table border=\"1\" class=\"dataframe\">\n",
       "  <thead>\n",
       "    <tr style=\"text-align: right;\">\n",
       "      <th></th>\n",
       "      <th>product_id</th>\n",
       "      <th>price</th>\n",
       "      <th>purchase</th>\n",
       "      <th>view</th>\n",
       "    </tr>\n",
       "  </thead>\n",
       "  <tbody>\n",
       "    <tr>\n",
       "      <th>count</th>\n",
       "      <td>5.345300e+04</td>\n",
       "      <td>53453.000000</td>\n",
       "      <td>53453.000000</td>\n",
       "      <td>53453.000000</td>\n",
       "    </tr>\n",
       "    <tr>\n",
       "      <th>mean</th>\n",
       "      <td>1.548572e+06</td>\n",
       "      <td>105.346161</td>\n",
       "      <td>0.698670</td>\n",
       "      <td>14.846482</td>\n",
       "    </tr>\n",
       "    <tr>\n",
       "      <th>std</th>\n",
       "      <td>1.303698e+06</td>\n",
       "      <td>516.781715</td>\n",
       "      <td>7.331356</td>\n",
       "      <td>97.626645</td>\n",
       "    </tr>\n",
       "    <tr>\n",
       "      <th>min</th>\n",
       "      <td>1.020000e+02</td>\n",
       "      <td>0.220000</td>\n",
       "      <td>0.000000</td>\n",
       "      <td>0.000000</td>\n",
       "    </tr>\n",
       "    <tr>\n",
       "      <th>25%</th>\n",
       "      <td>6.170760e+05</td>\n",
       "      <td>14.860000</td>\n",
       "      <td>0.000000</td>\n",
       "      <td>1.000000</td>\n",
       "    </tr>\n",
       "    <tr>\n",
       "      <th>50%</th>\n",
       "      <td>1.018106e+06</td>\n",
       "      <td>29.680000</td>\n",
       "      <td>0.000000</td>\n",
       "      <td>3.000000</td>\n",
       "    </tr>\n",
       "    <tr>\n",
       "      <th>75%</th>\n",
       "      <td>1.804712e+06</td>\n",
       "      <td>80.510000</td>\n",
       "      <td>0.000000</td>\n",
       "      <td>9.000000</td>\n",
       "    </tr>\n",
       "    <tr>\n",
       "      <th>max</th>\n",
       "      <td>4.183880e+06</td>\n",
       "      <td>64771.060000</td>\n",
       "      <td>564.000000</td>\n",
       "      <td>12804.000000</td>\n",
       "    </tr>\n",
       "  </tbody>\n",
       "</table>\n",
       "</div>"
      ],
      "text/plain": [
       "         product_id         price      purchase          view\n",
       "count  5.345300e+04  53453.000000  53453.000000  53453.000000\n",
       "mean   1.548572e+06    105.346161      0.698670     14.846482\n",
       "std    1.303698e+06    516.781715      7.331356     97.626645\n",
       "min    1.020000e+02      0.220000      0.000000      0.000000\n",
       "25%    6.170760e+05     14.860000      0.000000      1.000000\n",
       "50%    1.018106e+06     29.680000      0.000000      3.000000\n",
       "75%    1.804712e+06     80.510000      0.000000      9.000000\n",
       "max    4.183880e+06  64771.060000    564.000000  12804.000000"
      ]
     },
     "metadata": {},
     "execution_count": 64
    }
   ],
   "metadata": {}
  },
  {
   "cell_type": "code",
   "execution_count": 66,
   "source": [
    "# remove products with no views\r\n",
    "df_pivot = df_pivot[df_pivot.view > 0]\r\n",
    "df_pivot.describe()"
   ],
   "outputs": [
    {
     "output_type": "execute_result",
     "data": {
      "text/html": [
       "<div>\n",
       "<style scoped>\n",
       "    .dataframe tbody tr th:only-of-type {\n",
       "        vertical-align: middle;\n",
       "    }\n",
       "\n",
       "    .dataframe tbody tr th {\n",
       "        vertical-align: top;\n",
       "    }\n",
       "\n",
       "    .dataframe thead th {\n",
       "        text-align: right;\n",
       "    }\n",
       "</style>\n",
       "<table border=\"1\" class=\"dataframe\">\n",
       "  <thead>\n",
       "    <tr style=\"text-align: right;\">\n",
       "      <th></th>\n",
       "      <th>product_id</th>\n",
       "      <th>price</th>\n",
       "      <th>purchase</th>\n",
       "      <th>view</th>\n",
       "    </tr>\n",
       "  </thead>\n",
       "  <tbody>\n",
       "    <tr>\n",
       "      <th>count</th>\n",
       "      <td>5.345100e+04</td>\n",
       "      <td>53451.000000</td>\n",
       "      <td>53451.000000</td>\n",
       "      <td>53451.000000</td>\n",
       "    </tr>\n",
       "    <tr>\n",
       "      <th>mean</th>\n",
       "      <td>1.548536e+06</td>\n",
       "      <td>105.349553</td>\n",
       "      <td>0.698677</td>\n",
       "      <td>14.847037</td>\n",
       "    </tr>\n",
       "    <tr>\n",
       "      <th>std</th>\n",
       "      <td>1.303677e+06</td>\n",
       "      <td>516.791085</td>\n",
       "      <td>7.331492</td>\n",
       "      <td>97.628429</td>\n",
       "    </tr>\n",
       "    <tr>\n",
       "      <th>min</th>\n",
       "      <td>1.020000e+02</td>\n",
       "      <td>0.220000</td>\n",
       "      <td>0.000000</td>\n",
       "      <td>1.000000</td>\n",
       "    </tr>\n",
       "    <tr>\n",
       "      <th>25%</th>\n",
       "      <td>6.170145e+05</td>\n",
       "      <td>14.860000</td>\n",
       "      <td>0.000000</td>\n",
       "      <td>1.000000</td>\n",
       "    </tr>\n",
       "    <tr>\n",
       "      <th>50%</th>\n",
       "      <td>1.018060e+06</td>\n",
       "      <td>29.680000</td>\n",
       "      <td>0.000000</td>\n",
       "      <td>3.000000</td>\n",
       "    </tr>\n",
       "    <tr>\n",
       "      <th>75%</th>\n",
       "      <td>1.804712e+06</td>\n",
       "      <td>80.510000</td>\n",
       "      <td>0.000000</td>\n",
       "      <td>9.000000</td>\n",
       "    </tr>\n",
       "    <tr>\n",
       "      <th>max</th>\n",
       "      <td>4.183880e+06</td>\n",
       "      <td>64771.060000</td>\n",
       "      <td>564.000000</td>\n",
       "      <td>12804.000000</td>\n",
       "    </tr>\n",
       "  </tbody>\n",
       "</table>\n",
       "</div>"
      ],
      "text/plain": [
       "         product_id         price      purchase          view\n",
       "count  5.345100e+04  53451.000000  53451.000000  53451.000000\n",
       "mean   1.548536e+06    105.349553      0.698677     14.847037\n",
       "std    1.303677e+06    516.791085      7.331492     97.628429\n",
       "min    1.020000e+02      0.220000      0.000000      1.000000\n",
       "25%    6.170145e+05     14.860000      0.000000      1.000000\n",
       "50%    1.018060e+06     29.680000      0.000000      3.000000\n",
       "75%    1.804712e+06     80.510000      0.000000      9.000000\n",
       "max    4.183880e+06  64771.060000    564.000000  12804.000000"
      ]
     },
     "metadata": {},
     "execution_count": 66
    }
   ],
   "metadata": {}
  },
  {
   "cell_type": "code",
   "execution_count": 68,
   "source": [
    "# create the new variable \"conversion_rate\" and name it cvr\r\n",
    "df_pivot['cvr'] = df_pivot['purchase'] / df_pivot['view'] \r\n",
    "df_pivot.describe()"
   ],
   "outputs": [
    {
     "output_type": "stream",
     "name": "stderr",
     "text": [
      "C:\\Users\\meira\\AppData\\Local\\Temp/ipykernel_17952/1137817798.py:2: SettingWithCopyWarning: \n",
      "A value is trying to be set on a copy of a slice from a DataFrame.\n",
      "Try using .loc[row_indexer,col_indexer] = value instead\n",
      "\n",
      "See the caveats in the documentation: https://pandas.pydata.org/pandas-docs/stable/user_guide/indexing.html#returning-a-view-versus-a-copy\n",
      "  df_pivot['cvr'] = df_pivot['purchase'] / df_pivot['view']\n"
     ]
    },
    {
     "output_type": "execute_result",
     "data": {
      "text/html": [
       "<div>\n",
       "<style scoped>\n",
       "    .dataframe tbody tr th:only-of-type {\n",
       "        vertical-align: middle;\n",
       "    }\n",
       "\n",
       "    .dataframe tbody tr th {\n",
       "        vertical-align: top;\n",
       "    }\n",
       "\n",
       "    .dataframe thead th {\n",
       "        text-align: right;\n",
       "    }\n",
       "</style>\n",
       "<table border=\"1\" class=\"dataframe\">\n",
       "  <thead>\n",
       "    <tr style=\"text-align: right;\">\n",
       "      <th></th>\n",
       "      <th>product_id</th>\n",
       "      <th>price</th>\n",
       "      <th>purchase</th>\n",
       "      <th>view</th>\n",
       "      <th>cvr</th>\n",
       "    </tr>\n",
       "  </thead>\n",
       "  <tbody>\n",
       "    <tr>\n",
       "      <th>count</th>\n",
       "      <td>5.345100e+04</td>\n",
       "      <td>53451.000000</td>\n",
       "      <td>53451.000000</td>\n",
       "      <td>53451.000000</td>\n",
       "      <td>53451.000000</td>\n",
       "    </tr>\n",
       "    <tr>\n",
       "      <th>mean</th>\n",
       "      <td>1.548536e+06</td>\n",
       "      <td>105.349553</td>\n",
       "      <td>0.698677</td>\n",
       "      <td>14.847037</td>\n",
       "      <td>0.024994</td>\n",
       "    </tr>\n",
       "    <tr>\n",
       "      <th>std</th>\n",
       "      <td>1.303677e+06</td>\n",
       "      <td>516.791085</td>\n",
       "      <td>7.331492</td>\n",
       "      <td>97.628429</td>\n",
       "      <td>0.124387</td>\n",
       "    </tr>\n",
       "    <tr>\n",
       "      <th>min</th>\n",
       "      <td>1.020000e+02</td>\n",
       "      <td>0.220000</td>\n",
       "      <td>0.000000</td>\n",
       "      <td>1.000000</td>\n",
       "      <td>0.000000</td>\n",
       "    </tr>\n",
       "    <tr>\n",
       "      <th>25%</th>\n",
       "      <td>6.170145e+05</td>\n",
       "      <td>14.860000</td>\n",
       "      <td>0.000000</td>\n",
       "      <td>1.000000</td>\n",
       "      <td>0.000000</td>\n",
       "    </tr>\n",
       "    <tr>\n",
       "      <th>50%</th>\n",
       "      <td>1.018060e+06</td>\n",
       "      <td>29.680000</td>\n",
       "      <td>0.000000</td>\n",
       "      <td>3.000000</td>\n",
       "      <td>0.000000</td>\n",
       "    </tr>\n",
       "    <tr>\n",
       "      <th>75%</th>\n",
       "      <td>1.804712e+06</td>\n",
       "      <td>80.510000</td>\n",
       "      <td>0.000000</td>\n",
       "      <td>9.000000</td>\n",
       "      <td>0.000000</td>\n",
       "    </tr>\n",
       "    <tr>\n",
       "      <th>max</th>\n",
       "      <td>4.183880e+06</td>\n",
       "      <td>64771.060000</td>\n",
       "      <td>564.000000</td>\n",
       "      <td>12804.000000</td>\n",
       "      <td>5.000000</td>\n",
       "    </tr>\n",
       "  </tbody>\n",
       "</table>\n",
       "</div>"
      ],
      "text/plain": [
       "         product_id         price      purchase          view           cvr\n",
       "count  5.345100e+04  53451.000000  53451.000000  53451.000000  53451.000000\n",
       "mean   1.548536e+06    105.349553      0.698677     14.847037      0.024994\n",
       "std    1.303677e+06    516.791085      7.331492     97.628429      0.124387\n",
       "min    1.020000e+02      0.220000      0.000000      1.000000      0.000000\n",
       "25%    6.170145e+05     14.860000      0.000000      1.000000      0.000000\n",
       "50%    1.018060e+06     29.680000      0.000000      3.000000      0.000000\n",
       "75%    1.804712e+06     80.510000      0.000000      9.000000      0.000000\n",
       "max    4.183880e+06  64771.060000    564.000000  12804.000000      5.000000"
      ]
     },
     "metadata": {},
     "execution_count": 68
    }
   ],
   "metadata": {
    "execution": {
     "iopub.execute_input": "2021-08-28T09:45:15.205007Z",
     "iopub.status.busy": "2021-08-28T09:45:15.204359Z",
     "iopub.status.idle": "2021-08-28T09:45:15.226987Z",
     "shell.execute_reply": "2021-08-28T09:45:15.226327Z",
     "shell.execute_reply.started": "2021-08-26T09:38:47.030613Z"
    },
    "papermill": {
     "duration": 0.061256,
     "end_time": "2021-08-28T09:45:15.227119",
     "exception": false,
     "start_time": "2021-08-28T09:45:15.165863",
     "status": "completed"
    },
    "tags": []
   }
  },
  {
   "cell_type": "markdown",
   "source": [
    "# 2. Data exploration"
   ],
   "metadata": {
    "papermill": {
     "duration": 0.031286,
     "end_time": "2021-08-28T09:45:15.584638",
     "exception": false,
     "start_time": "2021-08-28T09:45:15.553352",
     "status": "completed"
    },
    "tags": []
   }
  },
  {
   "cell_type": "code",
   "execution_count": 69,
   "source": [
    "# Number of distinct products\r\n",
    "print(\"number of distinct products:\", df_pivot.product_id.nunique())"
   ],
   "outputs": [
    {
     "output_type": "stream",
     "name": "stdout",
     "text": [
      "number of distinct products: 53451\n"
     ]
    }
   ],
   "metadata": {
    "execution": {
     "iopub.execute_input": "2021-08-28T09:45:15.650900Z",
     "iopub.status.busy": "2021-08-28T09:45:15.650216Z",
     "iopub.status.idle": "2021-08-28T09:45:15.659441Z",
     "shell.execute_reply": "2021-08-28T09:45:15.658784Z",
     "shell.execute_reply.started": "2021-08-26T09:39:01.662703Z"
    },
    "papermill": {
     "duration": 0.04344,
     "end_time": "2021-08-28T09:45:15.659617",
     "exception": false,
     "start_time": "2021-08-28T09:45:15.616177",
     "status": "completed"
    },
    "tags": []
   }
  },
  {
   "cell_type": "code",
   "execution_count": 70,
   "source": [
    "# create a histogram for price\r\n",
    "df_pivot[df_pivot.price < 500]['price'].plot(kind='hist') \r\n",
    "\r\n",
    "# handle outliers"
   ],
   "outputs": [
    {
     "output_type": "execute_result",
     "data": {
      "text/plain": [
       "<AxesSubplot:ylabel='Frequency'>"
      ]
     },
     "metadata": {},
     "execution_count": 70
    },
    {
     "output_type": "display_data",
     "data": {
      "image/png": "[encoded data removed]",
      "text/plain": [
       "<Figure size 432x288 with 1 Axes>"
      ]
     },
     "metadata": {
      "needs_background": "light"
     }
    }
   ],
   "metadata": {
    "execution": {
     "iopub.execute_input": "2021-08-28T09:45:15.818754Z",
     "iopub.status.busy": "2021-08-28T09:45:15.818024Z",
     "iopub.status.idle": "2021-08-28T09:45:18.727839Z",
     "shell.execute_reply": "2021-08-28T09:45:18.727260Z",
     "shell.execute_reply.started": "2021-08-26T09:30:54.088465Z"
    },
    "papermill": {
     "duration": 2.964419,
     "end_time": "2021-08-28T09:45:18.727979",
     "exception": false,
     "start_time": "2021-08-28T09:45:15.763560",
     "status": "completed"
    },
    "tags": []
   }
  },
  {
   "cell_type": "code",
   "execution_count": 74,
   "source": [
    "# correlation matrix and heatmap: shows the strength of linar relationship\r\n",
    "# numeric vs. numeric variables\r\n",
    "df_pivot[['price','cvr']].corr()"
   ],
   "outputs": [
    {
     "output_type": "execute_result",
     "data": {
      "text/html": [
       "<div>\n",
       "<style scoped>\n",
       "    .dataframe tbody tr th:only-of-type {\n",
       "        vertical-align: middle;\n",
       "    }\n",
       "\n",
       "    .dataframe tbody tr th {\n",
       "        vertical-align: top;\n",
       "    }\n",
       "\n",
       "    .dataframe thead th {\n",
       "        text-align: right;\n",
       "    }\n",
       "</style>\n",
       "<table border=\"1\" class=\"dataframe\">\n",
       "  <thead>\n",
       "    <tr style=\"text-align: right;\">\n",
       "      <th></th>\n",
       "      <th>price</th>\n",
       "      <th>cvr</th>\n",
       "    </tr>\n",
       "  </thead>\n",
       "  <tbody>\n",
       "    <tr>\n",
       "      <th>price</th>\n",
       "      <td>1.000000</td>\n",
       "      <td>-0.015352</td>\n",
       "    </tr>\n",
       "    <tr>\n",
       "      <th>cvr</th>\n",
       "      <td>-0.015352</td>\n",
       "      <td>1.000000</td>\n",
       "    </tr>\n",
       "  </tbody>\n",
       "</table>\n",
       "</div>"
      ],
      "text/plain": [
       "          price       cvr\n",
       "price  1.000000 -0.015352\n",
       "cvr   -0.015352  1.000000"
      ]
     },
     "metadata": {},
     "execution_count": 74
    }
   ],
   "metadata": {
    "execution": {
     "iopub.execute_input": "2021-08-28T09:45:18.825475Z",
     "iopub.status.busy": "2021-08-28T09:45:18.823254Z",
     "iopub.status.idle": "2021-08-28T09:45:19.094181Z",
     "shell.execute_reply": "2021-08-28T09:45:19.093649Z",
     "shell.execute_reply.started": "2021-08-26T09:31:01.252584Z"
    },
    "papermill": {
     "duration": 0.316471,
     "end_time": "2021-08-28T09:45:19.094318",
     "exception": false,
     "start_time": "2021-08-28T09:45:18.777847",
     "status": "completed"
    },
    "tags": []
   }
  },
  {
   "cell_type": "markdown",
   "source": [
    "# 2. Data preparation"
   ],
   "metadata": {
    "papermill": {
     "duration": 0.0414,
     "end_time": "2021-08-28T09:45:19.178158",
     "exception": false,
     "start_time": "2021-08-28T09:45:19.136758",
     "status": "completed"
    },
    "tags": []
   }
  },
  {
   "cell_type": "code",
   "execution_count": 75,
   "source": [
    "# split training data into train and test (hide samples) \r\n",
    "np.random.seed(2808)\r\n",
    "\r\n",
    "print(\"total n rows of dataset:\", len(df_pivot))\r\n",
    "train, test = train_test_split(df_pivot, test_size=0.3)\r\n",
    "print(\"train\", len(train)) \r\n",
    "print(\"test\", len(test))"
   ],
   "outputs": [
    {
     "output_type": "stream",
     "name": "stdout",
     "text": [
      "total n rows of dataset: 53451\n",
      "train 37415\n",
      "test 16036\n"
     ]
    }
   ],
   "metadata": {
    "execution": {
     "iopub.execute_input": "2021-08-28T09:45:19.846996Z",
     "iopub.status.busy": "2021-08-28T09:45:19.846269Z",
     "iopub.status.idle": "2021-08-28T09:45:19.862956Z",
     "shell.execute_reply": "2021-08-28T09:45:19.863578Z",
     "shell.execute_reply.started": "2021-08-26T09:41:07.162135Z"
    },
    "papermill": {
     "duration": 0.073052,
     "end_time": "2021-08-28T09:45:19.863762",
     "exception": false,
     "start_time": "2021-08-28T09:45:19.790710",
     "status": "completed"
    },
    "tags": []
   }
  },
  {
   "cell_type": "markdown",
   "source": [
    "# 3. Model training"
   ],
   "metadata": {
    "execution": {
     "iopub.execute_input": "2021-08-23T13:16:42.438459Z",
     "iopub.status.busy": "2021-08-23T13:16:42.43799Z",
     "iopub.status.idle": "2021-08-23T13:16:42.445896Z",
     "shell.execute_reply": "2021-08-23T13:16:42.443731Z",
     "shell.execute_reply.started": "2021-08-23T13:16:42.438422Z"
    },
    "papermill": {
     "duration": 0.047528,
     "end_time": "2021-08-28T09:45:19.738557",
     "exception": false,
     "start_time": "2021-08-28T09:45:19.691029",
     "status": "completed"
    },
    "tags": []
   }
  },
  {
   "cell_type": "code",
   "execution_count": 76,
   "source": [
    "# transform data from pandas dataframe to numpy \r\n",
    "y = train['cvr'].to_numpy()\r\n",
    "x = train[['price']].to_numpy() "
   ],
   "outputs": [],
   "metadata": {
    "execution": {
     "iopub.execute_input": "2021-08-28T09:45:19.953861Z",
     "iopub.status.busy": "2021-08-28T09:45:19.953134Z",
     "iopub.status.idle": "2021-08-28T09:45:19.960319Z",
     "shell.execute_reply": "2021-08-28T09:45:19.960886Z",
     "shell.execute_reply.started": "2021-08-26T09:41:16.931044Z"
    },
    "papermill": {
     "duration": 0.05335,
     "end_time": "2021-08-28T09:45:19.961058",
     "exception": false,
     "start_time": "2021-08-28T09:45:19.907708",
     "status": "completed"
    },
    "tags": []
   }
  },
  {
   "cell_type": "code",
   "execution_count": 77,
   "source": [
    "# show the input of the first row for the prediction\r\n",
    "x[0,]"
   ],
   "outputs": [
    {
     "output_type": "execute_result",
     "data": {
      "text/plain": [
       "array([10.52])"
      ]
     },
     "metadata": {},
     "execution_count": 77
    }
   ],
   "metadata": {
    "execution": {
     "iopub.execute_input": "2021-08-28T09:45:20.051162Z",
     "iopub.status.busy": "2021-08-28T09:45:20.050485Z",
     "iopub.status.idle": "2021-08-28T09:45:20.057045Z",
     "shell.execute_reply": "2021-08-28T09:45:20.057656Z",
     "shell.execute_reply.started": "2021-08-26T09:41:17.945498Z"
    },
    "papermill": {
     "duration": 0.053939,
     "end_time": "2021-08-28T09:45:20.057850",
     "exception": false,
     "start_time": "2021-08-28T09:45:20.003911",
     "status": "completed"
    },
    "tags": []
   }
  },
  {
   "cell_type": "code",
   "execution_count": 78,
   "source": [
    "# show the target value (what we want to predict)\r\n",
    "y[0]"
   ],
   "outputs": [
    {
     "output_type": "execute_result",
     "data": {
      "text/plain": [
       "0.0"
      ]
     },
     "metadata": {},
     "execution_count": 78
    }
   ],
   "metadata": {
    "execution": {
     "iopub.execute_input": "2021-08-28T09:45:20.148100Z",
     "iopub.status.busy": "2021-08-28T09:45:20.147449Z",
     "iopub.status.idle": "2021-08-28T09:45:20.154776Z",
     "shell.execute_reply": "2021-08-28T09:45:20.154194Z",
     "shell.execute_reply.started": "2021-08-26T09:41:19.280627Z"
    },
    "papermill": {
     "duration": 0.053609,
     "end_time": "2021-08-28T09:45:20.154920",
     "exception": false,
     "start_time": "2021-08-28T09:45:20.101311",
     "status": "completed"
    },
    "tags": []
   }
  },
  {
   "cell_type": "code",
   "execution_count": 79,
   "source": [
    "# apply model to test data\r\n",
    "# x: attributes (same as in definition of y above), y: target\r\n",
    "\r\n",
    "model = LinearRegression()\r\n",
    "model.fit(x,y) \r\n",
    "predicted = model.predict(test[['price']].to_numpy())\r\n",
    "test['predicted_cvr'] = predicted # add column \"predicted\" to test data"
   ],
   "outputs": [],
   "metadata": {
    "execution": {
     "iopub.execute_input": "2021-08-28T09:45:20.249032Z",
     "iopub.status.busy": "2021-08-28T09:45:20.248299Z",
     "iopub.status.idle": "2021-08-28T09:45:20.471444Z",
     "shell.execute_reply": "2021-08-28T09:45:20.471991Z",
     "shell.execute_reply.started": "2021-08-26T09:41:21.755948Z"
    },
    "papermill": {
     "duration": 0.273435,
     "end_time": "2021-08-28T09:45:20.472167",
     "exception": false,
     "start_time": "2021-08-28T09:45:20.198732",
     "status": "completed"
    },
    "tags": []
   }
  },
  {
   "cell_type": "code",
   "execution_count": 80,
   "source": [
    "test.head(3)"
   ],
   "outputs": [
    {
     "output_type": "execute_result",
     "data": {
      "text/html": [
       "<div>\n",
       "<style scoped>\n",
       "    .dataframe tbody tr th:only-of-type {\n",
       "        vertical-align: middle;\n",
       "    }\n",
       "\n",
       "    .dataframe tbody tr th {\n",
       "        vertical-align: top;\n",
       "    }\n",
       "\n",
       "    .dataframe thead th {\n",
       "        text-align: right;\n",
       "    }\n",
       "</style>\n",
       "<table border=\"1\" class=\"dataframe\">\n",
       "  <thead>\n",
       "    <tr style=\"text-align: right;\">\n",
       "      <th></th>\n",
       "      <th>product_id</th>\n",
       "      <th>price</th>\n",
       "      <th>purchase</th>\n",
       "      <th>view</th>\n",
       "      <th>cvr</th>\n",
       "      <th>predicted_cvr</th>\n",
       "    </tr>\n",
       "  </thead>\n",
       "  <tbody>\n",
       "    <tr>\n",
       "      <th>5778</th>\n",
       "      <td>303780</td>\n",
       "      <td>11.70</td>\n",
       "      <td>0.0</td>\n",
       "      <td>3.0</td>\n",
       "      <td>0.0</td>\n",
       "      <td>0.025192</td>\n",
       "    </tr>\n",
       "    <tr>\n",
       "      <th>51088</th>\n",
       "      <td>4101018</td>\n",
       "      <td>32.06</td>\n",
       "      <td>0.0</td>\n",
       "      <td>5.0</td>\n",
       "      <td>0.0</td>\n",
       "      <td>0.025133</td>\n",
       "    </tr>\n",
       "    <tr>\n",
       "      <th>3262</th>\n",
       "      <td>225951</td>\n",
       "      <td>15.40</td>\n",
       "      <td>0.0</td>\n",
       "      <td>18.0</td>\n",
       "      <td>0.0</td>\n",
       "      <td>0.025181</td>\n",
       "    </tr>\n",
       "  </tbody>\n",
       "</table>\n",
       "</div>"
      ],
      "text/plain": [
       "       product_id  price  purchase  view  cvr  predicted_cvr\n",
       "5778       303780  11.70       0.0   3.0  0.0       0.025192\n",
       "51088     4101018  32.06       0.0   5.0  0.0       0.025133\n",
       "3262       225951  15.40       0.0  18.0  0.0       0.025181"
      ]
     },
     "metadata": {},
     "execution_count": 80
    }
   ],
   "metadata": {
    "execution": {
     "iopub.execute_input": "2021-08-28T09:45:20.563179Z",
     "iopub.status.busy": "2021-08-28T09:45:20.562206Z",
     "iopub.status.idle": "2021-08-28T09:45:20.584212Z",
     "shell.execute_reply": "2021-08-28T09:45:20.584693Z",
     "shell.execute_reply.started": "2021-08-26T09:41:24.425923Z"
    },
    "papermill": {
     "duration": 0.069247,
     "end_time": "2021-08-28T09:45:20.584879",
     "exception": false,
     "start_time": "2021-08-28T09:45:20.515632",
     "status": "completed"
    },
    "tags": []
   }
  },
  {
   "cell_type": "markdown",
   "source": [
    "# 4. Evaluation"
   ],
   "metadata": {
    "papermill": {
     "duration": 0.044242,
     "end_time": "2021-08-28T09:45:20.673343",
     "exception": false,
     "start_time": "2021-08-28T09:45:20.629101",
     "status": "completed"
    },
    "tags": []
   }
  },
  {
   "cell_type": "code",
   "execution_count": 81,
   "source": [
    "# which cvr was predicted for the first article?\r\n",
    "predicted[0]"
   ],
   "outputs": [
    {
     "output_type": "execute_result",
     "data": {
      "text/plain": [
       "0.02519220257531623"
      ]
     },
     "metadata": {},
     "execution_count": 81
    }
   ],
   "metadata": {
    "execution": {
     "iopub.execute_input": "2021-08-28T09:45:20.767313Z",
     "iopub.status.busy": "2021-08-28T09:45:20.765080Z",
     "iopub.status.idle": "2021-08-28T09:45:20.770866Z",
     "shell.execute_reply": "2021-08-28T09:45:20.771297Z",
     "shell.execute_reply.started": "2021-08-26T09:43:40.343616Z"
    },
    "papermill": {
     "duration": 0.053044,
     "end_time": "2021-08-28T09:45:20.771478",
     "exception": false,
     "start_time": "2021-08-28T09:45:20.718434",
     "status": "completed"
    },
    "tags": []
   }
  },
  {
   "cell_type": "code",
   "execution_count": 83,
   "source": [
    "# check MAE\r\n",
    "import sklearn \r\n",
    "sklearn.metrics.mean_absolute_error(test['cvr'].to_numpy(), predicted)"
   ],
   "outputs": [
    {
     "output_type": "execute_result",
     "data": {
      "text/plain": [
       "0.04424769556573792"
      ]
     },
     "metadata": {},
     "execution_count": 83
    }
   ],
   "metadata": {
    "execution": {
     "iopub.execute_input": "2021-08-28T09:45:20.867603Z",
     "iopub.status.busy": "2021-08-28T09:45:20.866708Z",
     "iopub.status.idle": "2021-08-28T09:45:20.870979Z",
     "shell.execute_reply": "2021-08-28T09:45:20.870489Z",
     "shell.execute_reply.started": "2021-08-26T09:43:41.301994Z"
    },
    "papermill": {
     "duration": 0.054989,
     "end_time": "2021-08-28T09:45:20.871120",
     "exception": false,
     "start_time": "2021-08-28T09:45:20.816131",
     "status": "completed"
    },
    "tags": []
   }
  },
  {
   "cell_type": "code",
   "execution_count": 85,
   "source": [
    "# check first x products from predicted cvr and compare to order of actual cvr (rank by cvr)\r\n",
    "print(test.sort_values(by = ['cvr'], ascending= False).head(5))\r\n",
    "\r\n",
    "# cvr of 1 or 0.33333 => 1 impression and 1 order? => if yes, remove it from dataset? "
   ],
   "outputs": [
    {
     "output_type": "stream",
     "name": "stdout",
     "text": [
      "       product_id  price  purchase  view  cvr  predicted_cvr\n",
      "48217     3830465  17.30       4.0   1.0  4.0       0.025176\n",
      "23562      893363  14.60       9.0   3.0  3.0       0.025184\n",
      "18345      787579   1.57       3.0   1.0  3.0       0.025222\n",
      "39411     1784781  25.71       3.0   1.0  3.0       0.025152\n",
      "20105      827465  16.98       2.0   1.0  2.0       0.025177\n"
     ]
    }
   ],
   "metadata": {
    "execution": {
     "iopub.execute_input": "2021-08-28T09:45:20.967809Z",
     "iopub.status.busy": "2021-08-28T09:45:20.966960Z",
     "iopub.status.idle": "2021-08-28T09:45:20.976319Z",
     "shell.execute_reply": "2021-08-28T09:45:20.975479Z",
     "shell.execute_reply.started": "2021-08-26T09:43:43.686514Z"
    },
    "papermill": {
     "duration": 0.060438,
     "end_time": "2021-08-28T09:45:20.976495",
     "exception": false,
     "start_time": "2021-08-28T09:45:20.916057",
     "status": "completed"
    },
    "tags": []
   }
  },
  {
   "cell_type": "code",
   "execution_count": 86,
   "source": [
    "# products ranked by predicted cvr\r\n",
    "print(test.sort_values(by = ['predicted_cvr'], ascending= False).head(5))"
   ],
   "outputs": [
    {
     "output_type": "stream",
     "name": "stdout",
     "text": [
      "       product_id  price  purchase   view       cvr  predicted_cvr\n",
      "2212       167240   0.90      10.0  112.0  0.089286       0.025224\n",
      "5424       301024   1.17       0.0    4.0  0.000000       0.025223\n",
      "5408       300794   1.40       0.0    1.0  0.000000       0.025222\n",
      "6626       327752   1.52       0.0    1.0  0.000000       0.025222\n",
      "18348      787587   1.57       0.0    6.0  0.000000       0.025222\n"
     ]
    }
   ],
   "metadata": {
    "execution": {
     "iopub.execute_input": "2021-08-28T09:45:21.073883Z",
     "iopub.status.busy": "2021-08-28T09:45:21.073202Z",
     "iopub.status.idle": "2021-08-28T09:45:21.082244Z",
     "shell.execute_reply": "2021-08-28T09:45:21.081433Z",
     "shell.execute_reply.started": "2021-08-26T09:43:47.022803Z"
    },
    "papermill": {
     "duration": 0.060705,
     "end_time": "2021-08-28T09:45:21.082458",
     "exception": false,
     "start_time": "2021-08-28T09:45:21.021753",
     "status": "completed"
    },
    "tags": []
   }
  },
  {
   "cell_type": "markdown",
   "source": [
    "### Now it's up to you - try to add new features to the model. You can either calculate something by yourself or you can select an existing feature. "
   ],
   "metadata": {
    "papermill": {
     "duration": 0.045249,
     "end_time": "2021-08-28T09:45:21.177911",
     "exception": false,
     "start_time": "2021-08-28T09:45:21.132662",
     "status": "completed"
    },
    "tags": []
   }
  },
  {
   "cell_type": "code",
   "execution_count": null,
   "source": [],
   "outputs": [],
   "metadata": {
    "papermill": {
     "duration": 0.046428,
     "end_time": "2021-08-28T09:45:21.888881",
     "exception": false,
     "start_time": "2021-08-28T09:45:21.842453",
     "status": "completed"
    },
    "tags": []
   }
  }
 ],
 "metadata": {
  "kernelspec": {
   "name": "python3",
   "display_name": "Python 3.9.7 64-bit ('pyladies_intro_pls': conda)"
  },
  "language_info": {
   "codemirror_mode": {
    "name": "ipython",
    "version": 3
   },
   "file_extension": ".py",
   "mimetype": "text/x-python",
   "name": "python",
   "nbconvert_exporter": "python",
   "pygments_lexer": "ipython3",
   "version": "3.9.7"
  },
  "papermill": {
   "default_parameters": {},
   "duration": 18.867455,
   "end_time": "2021-08-28T09:45:23.428625",
   "environment_variables": {},
   "exception": null,
   "input_path": "__notebook__.ipynb",
   "output_path": "__notebook__.ipynb",
   "parameters": {},
   "start_time": "2021-08-28T09:45:04.561170",
   "version": "2.3.3"
  },
  "interpreter": {
   "hash": "d72eecc0aa1568b4e6405351e92e5f9d1154a6f885e0016f78293a2d6fa58078"
  }
 },
 "nbformat": 4,
 "nbformat_minor": 5
}